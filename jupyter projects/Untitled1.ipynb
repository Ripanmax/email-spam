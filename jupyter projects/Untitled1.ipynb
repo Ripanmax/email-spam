{
 "cells": [
  {
   "cell_type": "code",
   "execution_count": null,
   "id": "4d322d82-249b-4d25-8ea4-f25830309b8f",
   "metadata": {},
   "outputs": [],
   "source": [
    "df=pd.read_csv(\"C:\\Users\\rupak\\Desktop\\jupyterprojects\\email spam dataset\\mail_data.csv"
   ]
  }
 ],
 "metadata": {
  "kernelspec": {
   "display_name": "Python 3 (ipykernel)",
   "language": "python",
   "name": "python3"
  },
  "language_info": {
   "codemirror_mode": {
    "name": "ipython",
    "version": 3
   },
   "file_extension": ".py",
   "mimetype": "text/x-python",
   "name": "python",
   "nbconvert_exporter": "python",
   "pygments_lexer": "ipython3",
   "version": "3.12.3"
  }
 },
 "nbformat": 4,
 "nbformat_minor": 5
}
