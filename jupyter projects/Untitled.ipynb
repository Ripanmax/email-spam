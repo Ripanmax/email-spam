{
 "cells": [
  {
   "cell_type": "code",
   "execution_count": null,
   "id": "81d6c82d-d43e-4447-b55a-23a7e2a89a29",
   "metadata": {},
   "outputs": [],
   "source": [
    "df=pd.read_csv(\""
   ]
  },
  {
   "cell_type": "code",
   "execution_count": null,
   "id": "3d64dcc2-3e6a-474e-a609-e4c41cba4528",
   "metadata": {},
   "outputs": [],
   "source": []
  }
 ],
 "metadata": {
  "kernelspec": {
   "display_name": "Python 3 (ipykernel)",
   "language": "python",
   "name": "python3"
  },
  "language_info": {
   "codemirror_mode": {
    "name": "ipython",
    "version": 3
   },
   "file_extension": ".py",
   "mimetype": "text/x-python",
   "name": "python",
   "nbconvert_exporter": "python",
   "pygments_lexer": "ipython3",
   "version": "3.12.3"
  }
 },
 "nbformat": 4,
 "nbformat_minor": 5
}
